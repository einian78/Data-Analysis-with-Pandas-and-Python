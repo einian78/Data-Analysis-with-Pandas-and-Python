{
  "nbformat": 4,
  "nbformat_minor": 0,
  "metadata": {
    "colab": {
      "name": "Python_img_readin.ipynb",
      "provenance": [],
      "authorship_tag": "ABX9TyNsHwAoSDCSi1Zl4HpCDn/p",
      "include_colab_link": true
    },
    "kernelspec": {
      "name": "python3",
      "display_name": "Python 3"
    }
  },
  "cells": [
    {
      "cell_type": "markdown",
      "metadata": {
        "id": "view-in-github",
        "colab_type": "text"
      },
      "source": [
        "<a href=\"https://colab.research.google.com/github/einian78/Data-Analysis-with-Pandas-and-Python/blob/master/Python_img_readin.ipynb\" target=\"_parent\"><img src=\"https://colab.research.google.com/assets/colab-badge.svg\" alt=\"Open In Colab\"/></a>"
      ]
    },
    {
      "cell_type": "code",
      "metadata": {
        "id": "3PsGsAqk2S7e",
        "colab_type": "code",
        "colab": {}
      },
      "source": [
        "import numpy as np\n",
        "from PIL import Image, ImageFront, ImageDraw\n",
        "from PIL.ImageChops import add, subtract, multiply, difference, screen \n",
        "import PIL.ImageStat as stat\n",
        "from skimage.io import imread, "
      ],
      "execution_count": 0,
      "outputs": []
    }
  ]
}